{
 "cells": [
  {
   "attachments": {},
   "cell_type": "markdown",
   "metadata": {},
   "source": [
    "# standard deviation: sd: variance of each value from the mean"
   ]
  },
  {
   "cell_type": "code",
   "execution_count": 31,
   "metadata": {},
   "outputs": [],
   "source": [
    "import numpy as np\n",
    "import matplotlib.pyplot as plt\n",
    "\n",
    "def sampstdev(arr):\n",
    "    avg = np.average(arr)\n",
    "    total = 0\n",
    "    for val in arr: \n",
    "        total += (val - avg)**2\n",
    "    return (total/(len(arr)-1))**.5\n",
    "\n",
    "        "
   ]
  },
  {
   "cell_type": "code",
   "execution_count": 11,
   "metadata": {},
   "outputs": [],
   "source": [
    "def reshape(data):\n",
    "    data = data.split()\n",
    "    data = list(map(lambda val: int(val), data))\n",
    "    data = np.array(data)\n",
    "    return data"
   ]
  },
  {
   "cell_type": "code",
   "execution_count": 12,
   "metadata": {},
   "outputs": [
    {
     "name": "stdout",
     "output_type": "stream",
     "text": [
      "620.0556964230445\n"
     ]
    }
   ],
   "source": [
    "arr = \"\"\"258\n",
    "523\n",
    "2484\n",
    "385\n",
    "265\n",
    "119\n",
    "34\n",
    "46\n",
    "64\n",
    "429\n",
    "51\n",
    "35\n",
    "21\n",
    "46\n",
    "86\"\"\"\n",
    "\n",
    "arr = reshape(arr)\n",
    "\n",
    "print(sampstdev(arr))"
   ]
  },
  {
   "cell_type": "code",
   "execution_count": 13,
   "metadata": {},
   "outputs": [
    {
     "name": "stdout",
     "output_type": "stream",
     "text": [
      "510.0\n",
      "261.6188916046478\n"
     ]
    }
   ],
   "source": [
    "arr1 = \"\"\"290\n",
    "470\n",
    "670\n",
    "790\n",
    "1070\n",
    "290\n",
    "290\n",
    "470\n",
    "470\n",
    "290\"\"\"\n",
    "\n",
    "arr1 = reshape(arr1)\n",
    "print(np.mean(arr1))\n",
    "print(sampstdev(arr1))"
   ]
  },
  {
   "cell_type": "code",
   "execution_count": 20,
   "metadata": {},
   "outputs": [
    {
     "name": "stdout",
     "output_type": "stream",
     "text": [
      "510.0\n"
     ]
    }
   ],
   "source": [
    "arr2 = \"1160 1410 670 790 1070\"\n",
    "arr2 = reshape(arr2)\n",
    "print(np.sum(arr2)/10)"
   ]
  },
  {
   "cell_type": "code",
   "execution_count": 22,
   "metadata": {},
   "outputs": [
    {
     "name": "stdout",
     "output_type": "stream",
     "text": [
      "261.6188916046478\n"
     ]
    }
   ],
   "source": [
    "print(sampstdev(arr1))"
   ]
  },
  {
   "cell_type": "code",
   "execution_count": 26,
   "metadata": {},
   "outputs": [
    {
     "name": "stdout",
     "output_type": "stream",
     "text": [
      "[34.5, 44.5, 54.5, 64.5, 74.5, 84.5, 94.5]\n"
     ]
    },
    {
     "data": {
      "text/plain": [
       "61.5"
      ]
     },
     "execution_count": 26,
     "metadata": {},
     "output_type": "execute_result"
    }
   ],
   "source": [
    "arr10 = []\n",
    "num = 34.5\n",
    "for i in range(7):\n",
    "    arr10.append(num)\n",
    "    num += 10\n",
    "print(arr10)\n",
    "\n",
    "num10 = arr10[0]*7 + arr10[1]*4 + arr10[2]*8 + arr10[3]*7 + arr10[4]*6 + arr10[5]*5 + arr10[6]*3\n",
    "num10 = num10/(7+4+8+7+6+5+3)\n",
    "num10"
   ]
  },
  {
   "cell_type": "code",
   "execution_count": 28,
   "metadata": {},
   "outputs": [],
   "source": [
    "def multi_append(arr, val, times):\n",
    "    for i in range(times):\n",
    "        arr.append(val)\n",
    "    return arr\n",
    "\n",
    "arr10 = []\n",
    "\n",
    "def multi_action(amount):\n",
    "    for i in range(amount):\n",
    "        \n",
    "        val = input(\"whats the value\")\n",
    "        times = input(\"how many times\")\n",
    "        multi_append(arr10, float(val), int(times))\n",
    "\n",
    "\n"
   ]
  },
  {
   "cell_type": "code",
   "execution_count": 29,
   "metadata": {},
   "outputs": [
    {
     "name": "stdout",
     "output_type": "stream",
     "text": [
      "[34.5, 34.5, 34.5, 34.5, 34.5, 34.5, 34.5, 44.5, 44.5, 44.5, 44.5, 54.5, 54.5, 54.5, 54.5, 54.5, 54.5, 54.5, 54.5, 64.5, 64.5, 64.5, 64.5, 64.5, 64.5, 64.5, 74.5, 74.5, 74.5, 74.5, 74.5, 74.5, 84.5, 84.5, 84.5, 84.5, 84.5, 94.5, 94.5, 94.5]\n"
     ]
    }
   ],
   "source": [
    "print(arr10)"
   ]
  },
  {
   "cell_type": "code",
   "execution_count": 30,
   "metadata": {},
   "outputs": [
    {
     "name": "stdout",
     "output_type": "stream",
     "text": [
      "18.70143282595186\n"
     ]
    }
   ],
   "source": [
    "print(sampstdev(np.array(arr10)))"
   ]
  },
  {
   "cell_type": "code",
   "execution_count": 33,
   "metadata": {},
   "outputs": [
    {
     "data": {
      "image/png": "[encoded data removed]",
      "text/plain": [
       "<Figure size 640x480 with 1 Axes>"
      ]
     },
     "metadata": {},
     "output_type": "display_data"
    }
   ],
   "source": [
    "data13 = \"\"\"3\n",
    "5\n",
    "4\n",
    "5\n",
    "7\n",
    "8\n",
    "7\n",
    "5\n",
    "8\n",
    "5\n",
    "7\n",
    "8\n",
    "10\n",
    "9\n",
    "9\n",
    "7\n",
    "5\n",
    "7\n",
    "4\n",
    "9\n",
    "6\n",
    "7\n",
    "8\n",
    "6\n",
    "6\n",
    "10\n",
    "9\n",
    "11\n",
    "5\n",
    "8\n",
    "4\n",
    "8\n",
    "9\n",
    "7\n",
    "6\n",
    "7\n",
    "10\n",
    "5\n",
    "7\n",
    "7\n",
    "5\n",
    "7\n",
    "6\n",
    "11\n",
    "6\n",
    "8\n",
    "7\n",
    "9\n",
    "6\n",
    "5\n",
    "9\n",
    "7\n",
    "7\n",
    "8\n",
    "8\n",
    "3\n",
    "9\n",
    "8\n",
    "7\n",
    "8\n",
    "8\n",
    "7\n",
    "8\n",
    "4\n",
    "6\n",
    "6\n",
    "7\n",
    "9\n",
    "9\n",
    "4\n",
    "12\n",
    "9\n",
    "8\n",
    "6\n",
    "5\n",
    "6\"\"\"\n",
    "\n",
    "data13 = reshape(data13)\n",
    "plt.boxplot(data13)\n",
    "plt.show()"
   ]
  },
  {
   "cell_type": "code",
   "execution_count": null,
   "metadata": {},
   "outputs": [],
   "source": []
  }
 ],
 "metadata": {
  "kernelspec": {
   "display_name": "Python 3",
   "language": "python",
   "name": "python3"
  },
  "language_info": {
   "codemirror_mode": {
    "name": "ipython",
    "version": 3
   },
   "file_extension": ".py",
   "mimetype": "text/x-python",
   "name": "python",
   "nbconvert_exporter": "python",
   "pygments_lexer": "ipython3",
   "version": "3.10.9"
  },
  "orig_nbformat": 4,
  "vscode": {
   "interpreter": {
    "hash": "d38b3aa79132a35f22ce21a8f808907f89957449755fcedfaa8e490b3bb4d64a"
   }
  }
 },
 "nbformat": 4,
 "nbformat_minor": 2
}
