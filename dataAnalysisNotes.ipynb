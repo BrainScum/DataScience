{
 "cells": [
  {
   "attachments": {},
   "cell_type": "markdown",
   "metadata": {},
   "source": [
    "## basic methods and tools of pandas and numpy\n",
    "\n",
    "#### pandas has all important data analysis tools including sum, lin reg, basic stats (mean, 5numsum, etc.), etc."
   ]
  },
  {
   "attachments": {},
   "cell_type": "markdown",
   "metadata": {},
   "source": [
    "### import and create df"
   ]
  },
  {
   "cell_type": "code",
   "execution_count": 5,
   "metadata": {},
   "outputs": [
    {
     "name": "stdout",
     "output_type": "stream",
     "text": [
      "    a   b\n",
      "0  11   9\n",
      "1  21  17\n",
      "2  44  30\n",
      "    a   b\n",
      "0  11   9\n",
      "1  21  17\n",
      "2  44  30\n"
     ]
    }
   ],
   "source": [
    "import pandas as pd\n",
    "import numpy as np\n",
    "import matplotlib.pyplot as plt\n",
    "#import seaborn as sns\n",
    "#import scipy as sci\n",
    "\n",
    "#file format and path\n",
    "#csv_path = 'csvTest.csv'\n",
    "\n",
    "#df = pd.read_csv(csv_path)\n",
    "#df = pd.read_csv(csv_path, header = None) //for no header in file\n",
    "#.to_frame\n",
    "\n",
    "#dataframes are made with dictionaries - dictionaries can be used to make nosql databases\n",
    "\n",
    "dfDict = {\"a\": [11, 21, 44], \"b\": [9, 17, 30]}\n",
    "df = pd.DataFrame(dfDict)\n",
    "\n",
    "print(df.head(3))\n",
    "print(df[[\"a\", \"b\"]])"
   ]
  },
  {
   "cell_type": "code",
   "execution_count": 4,
   "metadata": {},
   "outputs": [],
   "source": [
    "# can add headers with: \n",
    "# headers = [this, that, other, so, forth] \n",
    "# df.columns = headers\n",
    "# df.columns"
   ]
  },
  {
   "cell_type": "code",
   "execution_count": 5,
   "metadata": {},
   "outputs": [],
   "source": [
    "# export:\n",
    "# df.to_csv([path])"
   ]
  },
  {
   "attachments": {},
   "cell_type": "markdown",
   "metadata": {},
   "source": [
    "pandas datatypes: \n",
    "object, int64, float64, datetime64"
   ]
  },
  {
   "cell_type": "code",
   "execution_count": 20,
   "metadata": {},
   "outputs": [],
   "source": [
    "# data operations: \n",
    "# df[value].dtypes\n",
    "# df.dtypes //for all datatypes\n",
    "# df.describe(include = \"all\") //for quick statistics on \"all\" data types\n",
    "# df.info()\n",
    "# df[[column]].mean() //finds the mean of a column\n",
    "\n",
    "#.mean, .sum, .replace, .isnull, "
   ]
  },
  {
   "cell_type": "code",
   "execution_count": null,
   "metadata": {},
   "outputs": [],
   "source": [
    "# //modifications to be done to the dataframe directly\n",
    "\n",
    "#df = df.replace('?', np.NaN) //replaces ? values with NaN\n",
    "#df = df.dropna(subset=[\"value\"], axis=0, inplace = True) //drops null values and allows the \n",
    "#df = df.drop(labels=[\"col1\", \"col2\"], axis = 1, inplace=True) //drops columns using labels (column names), \n",
    "#//axis 1 is columns axis 2 is rows, inplace is for altering the df or only returning a result"
   ]
  },
  {
   "cell_type": "code",
   "execution_count": 7,
   "metadata": {},
   "outputs": [
    {
     "data": {
      "text/plain": [
       "0    11\n",
       "1    21\n",
       "2    44\n",
       "Name: a, dtype: int64"
      ]
     },
     "execution_count": 7,
     "metadata": {},
     "output_type": "execute_result"
    }
   ],
   "source": [
    "#access a column of a dataframe with the column name\n",
    "df[\"a\"]"
   ]
  },
  {
   "cell_type": "code",
   "execution_count": null,
   "metadata": {},
   "outputs": [],
   "source": [
    "# data formatting:\n",
    "# df[[column]] = 12*df[[column]]\n",
    "# df.rename(columns={[column]: [newName]}, inplace = True) //recalculating or changing metrics\n",
    "\n",
    "# df[[column]] = df[[column]].astype([datatype]) //converting datatypes in a dataframe"
   ]
  },
  {
   "cell_type": "code",
   "execution_count": null,
   "metadata": {},
   "outputs": [],
   "source": [
    "# data normalization: adjusting variable ranges to be similar //allows for accurate representation in \n",
    "# practices such as regression\n",
    "\n",
    "# simple feature scaling, min-max, z-score\n",
    "# df[[column]] = (df[[column]] - df[[column]].mean()) / df[[column]].std()"
   ]
  },
  {
   "cell_type": "code",
   "execution_count": null,
   "metadata": {},
   "outputs": [],
   "source": [
    "# binning: grouping values into categories/intervals or numeric values to categorical\n",
    "\n",
    "# bins = np.linspace(min(df[column]), max(df[column]), 4)\n",
    "# group_names = [\"Low\", \"Medium\", \"High\"]\n",
    "# df[\"binned\"] = pd.cut(df[column], bins, labels = group_names, include_lowest = True)\n",
    "\n",
    "# categorical variables: dummies, value counts\n",
    "\n",
    "# pd.get_dummies(df[column]) //converting categorical variables to numerical with dummy variables\n",
    "# variable_values = df[[column]].value_counts().to_frame()"
   ]
  },
  {
   "attachments": {},
   "cell_type": "markdown",
   "metadata": {},
   "source": [
    "## scatterplot"
   ]
  },
  {
   "cell_type": "code",
   "execution_count": 3,
   "metadata": {},
   "outputs": [],
   "source": [
    "#firstGuy = df[\"price\"]\n",
    "#secondGuy = df[\"engine-size\"]\n",
    "#plt.scatter(firstGuy, secondGuy)"
   ]
  },
  {
   "attachments": {},
   "cell_type": "markdown",
   "metadata": {},
   "source": [
    "### groupby, pivot table, unique"
   ]
  },
  {
   "cell_type": "code",
   "execution_count": null,
   "metadata": {},
   "outputs": [],
   "source": [
    "#grp = df.groupby([\"col\", \"col2\"], as_index = False).mean()\n",
    "#df_pivot = grp.pivot(index = \"col\", columns = \"col2\")\n",
    "#df[\"col\"].unique()"
   ]
  },
  {
   "cell_type": "code",
   "execution_count": null,
   "metadata": {},
   "outputs": [],
   "source": [
    "#plt.pcolor(df_pivot, cmap = \"RdBu\")\n",
    "#plt.colorbar()\n",
    "#plt.show()"
   ]
  },
  {
   "attachments": {},
   "cell_type": "markdown",
   "metadata": {},
   "source": [
    "## correlation"
   ]
  },
  {
   "cell_type": "code",
   "execution_count": 2,
   "metadata": {},
   "outputs": [],
   "source": [
    "#to what extent different variables are interdependent\n",
    "#correlation != causation\n",
    "#pearson: correlation coefficient (1, 0, -1), p-value (<.05)\n",
    "\n",
    "#sns.regplot(x = \"col1\", y = \"col2\", data = df)\n",
    "#plt.ylim(0, )\n",
    "\n",
    "#df[[\"col1\", \"col2\"]].corr() //to find correlation between variables\n",
    "\n",
    "#pearson_coef, p_value = stats.pearsonr(df[\"col1\"], df[\"col2\"])"
   ]
  },
  {
   "attachments": {},
   "cell_type": "markdown",
   "metadata": {},
   "source": [
    "### chi-squared"
   ]
  },
  {
   "cell_type": "code",
   "execution_count": null,
   "metadata": {},
   "outputs": [],
   "source": [
    "##sci.py.stats.chi2_contingency(cont_table, correction = True)"
   ]
  },
  {
   "attachments": {},
   "cell_type": "markdown",
   "metadata": {},
   "source": [
    "### scikit learn: linear regression"
   ]
  },
  {
   "cell_type": "code",
   "execution_count": 18,
   "metadata": {},
   "outputs": [],
   "source": [
    "#simple:\n",
    "#x = df[['col']] //predictor variable\n",
    "#y = df[['col2']] //target variable\n",
    "#lm = LinearRegression()\n",
    "#lm.fit(x, y) //fit the model\n",
    "#yhat = lm.predict(x) //object to predict using regression\n",
    "#lm.coef //coefficient\n",
    "#lm.score() //r-squared value\n",
    "\n",
    "#multiple:\n",
    "#z = df[['col', 'col2', 'col3']]\n",
    "\n",
    "#polynomial regression: exponentiated target variable regression\n",
    "#f = np.polyfit(x, y, 3)\n",
    "#p = poly1d(f)\n",
    "\n",
    "#pr = PolynomialFeatures(degree = 2, include_bias=False) //preprocessing \n",
    "#x_poly = pr.fit_transform(x[[\"col\", \"col2\"]])"
   ]
  },
  {
   "attachments": {},
   "cell_type": "markdown",
   "metadata": {},
   "source": [
    "### visualization: residual and distribution"
   ]
  },
  {
   "attachments": {},
   "cell_type": "markdown",
   "metadata": {},
   "source": [
    "### pipeline: simplifying code for a model"
   ]
  },
  {
   "cell_type": "code",
   "execution_count": null,
   "metadata": {},
   "outputs": [],
   "source": [
    "#from sklearn.pipeline import Pipeline //for transforming data\n",
    "#pipe = Pipeline([tupleInputOfParameters])"
   ]
  },
  {
   "attachments": {},
   "cell_type": "markdown",
   "metadata": {},
   "source": [
    "### in-sample evaluation: mean squared error, r^2 (coefficient of determination)"
   ]
  },
  {
   "cell_type": "code",
   "execution_count": 19,
   "metadata": {},
   "outputs": [],
   "source": [
    "#from sklearn.pipeline import mean_squared_error\n",
    "#mean_squared_error(df[\"col\"], Y_predict_simple_fit)\n",
    "\n",
    "#lm.score(x, y) //calculate r-squared: 1 is strong explanation, 0 is weak\n"
   ]
  },
  {
   "attachments": {},
   "cell_type": "markdown",
   "metadata": {},
   "source": [
    "### model eval"
   ]
  },
  {
   "cell_type": "code",
   "execution_count": null,
   "metadata": {},
   "outputs": [],
   "source": [
    "#train_test_split(x_data, y_data, test_size = 0.1, random_state = 0) //split data into .9 testing and .1 training\n",
    "\n",
    "#scores = cross_val_score(lr, x_data, y_data, cv = 3) //cross validation, cv = num of folds\n",
    "#np.mean(scores)\n",
    "\n",
    "#yhat = cross_val_predict(lr, x_data, y_data, cv = 3) //prediction"
   ]
  },
  {
   "attachments": {},
   "cell_type": "markdown",
   "metadata": {},
   "source": [
    "### overfitting, underfitting, model selection"
   ]
  },
  {
   "cell_type": "code",
   "execution_count": null,
   "metadata": {},
   "outputs": [],
   "source": [
    "#underfitting: model is too simple to accurately evaluate data\n",
    "#overfitting: model is too flexible and complex for data\n",
    "\n",
    "# //testing for r squared in our model\n",
    "#rs_test = []\n",
    "#order = [1, 2, 3, 4]\n",
    "#for n in order:\n",
    "#   pr = PolynomialFeatures(degree = n)\n",
    "#   x_train_pr = pr.fit_transform(x_train[[\"value\"]])\n",
    "#   x_test_pr = pr.fit_transform(x_test[[\"value\"]])\n",
    "#   lr.fit(x_train_pr, y_train)\n",
    "#   rs_test.append(lr.score(x_test, y_test))\n",
    "\n",
    "# //ridge regression uses an alpha value to manipulate a model and correct over/underfitting\n",
    "#RidgeModel = Ridge(alpha=0.1)\n",
    "#RidgeModel.fit(X,y)\n",
    "#Yhat = RidgeModel.predict(X)\n",
    "\n",
    "# //grid search of hyperparameters (such as alpha in ridge regression)\n",
    "# //allows for testing multiple different parameters (using a dictionary of parameter keys and value values)"
   ]
  }
 ],
 "metadata": {
  "kernelspec": {
   "display_name": "Python 3",
   "language": "python",
   "name": "python3"
  },
  "language_info": {
   "codemirror_mode": {
    "name": "ipython",
    "version": 3
   },
   "file_extension": ".py",
   "mimetype": "text/x-python",
   "name": "python",
   "nbconvert_exporter": "python",
   "pygments_lexer": "ipython3",
   "version": "3.10.10"
  },
  "orig_nbformat": 4,
  "vscode": {
   "interpreter": {
    "hash": "d38b3aa79132a35f22ce21a8f808907f89957449755fcedfaa8e490b3bb4d64a"
   }
  }
 },
 "nbformat": 4,
 "nbformat_minor": 2
}
